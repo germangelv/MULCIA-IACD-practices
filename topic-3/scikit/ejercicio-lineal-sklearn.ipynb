{
 "cells": [
  {
   "cell_type": "markdown",
   "metadata": {},
   "source": [
    "## Inteligencia Artificial para la Ciencia de los Datos\n",
    "## Máster en Lógica, Computación e Inteligencia Artificial \n",
    "## Tema 3: Modelos lineales"
   ]
  },
  {
   "cell_type": "code",
   "execution_count": 1,
   "metadata": {
    "hide_input": false
   },
   "outputs": [],
   "source": [
    "%matplotlib inline\n",
    "import matplotlib.pyplot as plt\n",
    "import numpy as np"
   ]
  },
  {
   "cell_type": "markdown",
   "metadata": {
    "collapsed": true
   },
   "source": [
    " ### Ejercicio: Modelos Lineales en scikit-learn"
   ]
  },
  {
   "cell_type": "markdown",
   "metadata": {},
   "source": [
    "Este ejercicio está tomado parcialmente del libro:\n",
    "\n",
    "[*Introduction to Machine Learning with Python*](http://shop.oreilly.com/product/0636920030515.do)  \n",
    "**Andreas C. Müller & Sarah Guido**  \n",
    "O'Reilly 2017\n",
    "\n",
    "Github con el material del libro: [Github](https://github.com/amueller/introduction_to_ml_with_python). \n",
    "\n",
    "El libro está accesible *online* desde la [Biblioteca de la Universidad de Sevilla](https://fama.us.es), como recurso electrónico."
   ]
  },
  {
   "cell_type": "markdown",
   "metadata": {},
   "source": [
    "Antes que nada, cargamos el módulo `mglearn` (recordar que para que funcione la carga, debemos poner la carpeta `mglearn` en cualquiera de las carpetas que usa python para cargar sus módulos)."
   ]
  },
  {
   "cell_type": "code",
   "execution_count": 2,
   "metadata": {},
   "outputs": [],
   "source": [
    "import mglearn"
   ]
  },
  {
   "cell_type": "markdown",
   "metadata": {},
   "source": [
    "## Regresión lineal"
   ]
  },
  {
   "cell_type": "markdown",
   "metadata": {},
   "source": [
    "#### Apartado 1:\n",
    "\n",
    "Para ilustrar regresión lineal vamos a usar el conjunto de datos sobre el precio de la vivienda en Boston. Para ello usar la función `load_boston` del módulo `datasets` y explorar brevemente los datos (consultar la descripción). "
   ]
  },
  {
   "cell_type": "markdown",
   "metadata": {},
   "source": [
    "### Solución:"
   ]
  },
  {
   "cell_type": "code",
   "execution_count": null,
   "metadata": {},
   "outputs": [],
   "source": [
    "\n",
    "\n",
    "\n",
    "\n",
    "\n",
    "\n",
    "\n",
    "\n",
    "\n",
    "\n"
   ]
  },
  {
   "cell_type": "markdown",
   "metadata": {},
   "source": [
    "#### Apartado 2\n",
    "\n",
    "El módulo `mglearn`nos proporciona un conjunto de datos **extendido** a partir de los datos originales anteriores sobre el precio de la vivienda en Boston. Las 13 características originales se han extendido a 104 (las características adicionales se han obtenido mediante operaciones sobre las originales). Para cargar estos datos extendidos, simplemente hacer: \n",
    "\n",
    "```python\n",
    "X, y = mglearn.datasets.load_extended_boston()\n",
    "```\n",
    "\n",
    "Una vez cargados, partir en entrenamiento y prueba, aplicar regresión lineal (`LinearRegression`) y ver el rendimiento sobre ambos conjuntos de datos.\n",
    "\n",
    "Consultar en el manual la definición precisa del rendimiento que se calcula en el caso de problemas de regresión, calcularlo directamente usando funciones de numpy y compararlo con el calculado por el metodo `score` de scikit-learn. \n"
   ]
  },
  {
   "cell_type": "markdown",
   "metadata": {},
   "source": [
    "### Solución:"
   ]
  },
  {
   "cell_type": "code",
   "execution_count": null,
   "metadata": {},
   "outputs": [],
   "source": [
    "\n",
    "\n",
    "\n",
    "\n",
    "\n",
    "\n"
   ]
  },
  {
   "cell_type": "markdown",
   "metadata": {},
   "source": [
    "#### Apartado 3\n",
    "\n",
    "Introducir ahora regularización $L_2$ en el modelo de regresión. Para ello usar la clase `Ridge` que introduce en la función de coste un término de _regularización:_ la suma de los cuadrados de los coeficientes ($\\sum_i|w_i|^2$)  penaliza el modelo, dependiendo también de un coeficiente que indica el peso de dicha penalización. En scikit-learn, ese coeficiente es _alpha_. Cuanto mayor el coeficiente, más regularización. Por defecto es 1. \n",
    "\n",
    "Probar este modelo `Ridge` con el conjunto de datos anterior, para tres valores de $alpha$: 0.1, 1 (el valor por defecto) y 10. Explicar los resultados de rendimiento obtenidos. "
   ]
  },
  {
   "cell_type": "markdown",
   "metadata": {},
   "source": [
    "### Solución:"
   ]
  },
  {
   "cell_type": "code",
   "execution_count": null,
   "metadata": {},
   "outputs": [],
   "source": [
    "\n",
    "\n",
    "\n",
    "\n",
    "\n"
   ]
  },
  {
   "cell_type": "markdown",
   "metadata": {},
   "source": [
    "#### Apartado 4\n",
    "\n",
    "Los modelos aprendidos guardan sus coeficientes (pesos) en el atributo `coef_`. Mostrar un gráfico en el que se compare la magnitud de los pesos aprendidos por cada uno de los cuatro modelos anteriores. Para ello, completar las interrogantes del código python siguiente:\n",
    "\n",
    "```python\n",
    "plt.plot(????????????????????) # coeficientes de ridge alfa=1\n",
    "plt.plot(????????????????????) # coeficientes de ridge alfa=0.1\n",
    "plt.plot(????????????????????) # coeficientes de ridge alpha=10\n",
    "plt.plot(????????????????????) # coeficientes de regresión sin regularización\n",
    "\n",
    "plt.xlabel(\"Índice del coeficiente\")\n",
    "plt.ylabel(\"Magnitud del coeficiente\")\n",
    "xlims = plt.xlim()\n",
    "plt.hlines(0, xlims[0], xlims[1])\n",
    "plt.xlim(xlims)\n",
    "plt.ylim(-25, 25)\n",
    "plt.legend()\n",
    "```\n",
    "\n",
    "Interpretar el gráfico obtenido. "
   ]
  },
  {
   "cell_type": "markdown",
   "metadata": {},
   "source": [
    "### Solución:"
   ]
  },
  {
   "cell_type": "code",
   "execution_count": null,
   "metadata": {},
   "outputs": [],
   "source": [
    "\n",
    "\n",
    "\n",
    "\n",
    "\n",
    "\n",
    "\n"
   ]
  },
  {
   "cell_type": "markdown",
   "metadata": {},
   "source": [
    "#### Apartado 5\n",
    "\n",
    "En regresión _lasso_ (con regularización $L_1$) el termino de regularización es la suma de los valores absolutos de los coeficientes ($\\sum_i|w_i|$), penalización que también depende de un coeficiente _alpha_ que indica el peso de dicha penalización. Una de las consecuencias más interesantes de usar esta penalización es que algunos de los coeficientes $w_i$ se anulan. \n",
    "\n",
    "La clase `Lasso` de scikit learn aplica regularización $L_1$. Aplicar el modelo a los datos anteriores con tres valores distintos de _alpha_, tratando de encontrar un buen rendimiento. en la predicción. Además, en cada caso contar cuántos pesos quedan sin anular, y discutir ese dato en función de la cantidad de regularización usada. Hacer también un gráfico en el que se compare la magnitud de los coeficientes y comentar los resultados.  "
   ]
  },
  {
   "cell_type": "markdown",
   "metadata": {},
   "source": [
    "### Solución:"
   ]
  },
  {
   "cell_type": "code",
   "execution_count": null,
   "metadata": {},
   "outputs": [],
   "source": [
    "\n",
    "\n",
    "\n",
    "\n",
    "\n",
    "\n"
   ]
  },
  {
   "cell_type": "markdown",
   "metadata": {},
   "source": [
    "## Clasificación con regresión logística"
   ]
  },
  {
   "cell_type": "markdown",
   "metadata": {},
   "source": [
    "Un conjunto de datos muy usado en scikit learn para probar el comportamiento de modelos de clasificación es el llamado *Breast cancer Wisconsin dataset*. Se trata de una base de datos sobre tumores en cáncer de mama, con 30 caracteríticas y 569 datos.  "
   ]
  },
  {
   "cell_type": "markdown",
   "metadata": {},
   "source": [
    "#### Apartado 6\n",
    "\n",
    "La función `load_breast_cancer` del módulo dataset carga este conjunto de datos. Cargar el conjunto de datos, explorando sus componentes y dividiendo en entrenamiento y prueba."
   ]
  },
  {
   "cell_type": "markdown",
   "metadata": {},
   "source": [
    "### Solución:"
   ]
  },
  {
   "cell_type": "code",
   "execution_count": null,
   "metadata": {},
   "outputs": [],
   "source": [
    "\n",
    "\n",
    "\n",
    "\n",
    "\n"
   ]
  },
  {
   "cell_type": "markdown",
   "metadata": {},
   "source": [
    "#### Apartado 7\n",
    "\n",
    "La clase `LogisticRegression` implementa el clasificador de regresión logística con regularización. En este caso el coeficiente de regularización se denomina $C$ (por defecto 1) y *cuanto mayor es, menos regularización*. El tipo de regularización se indica en el parámetro `penalty` (por defecto $L_2$). \n",
    "\n",
    "Realizar un estudio similar a lo realizado en la sección anterior:\n",
    "\n",
    "* Probar con distintos valores del parámetro de regularización $L_2$, justificando los rendimientos obtenidos. \n",
    "* Mostrar gráficamente la magnitud de los pesos aprendidos \n",
    "* Entender el resultado devuelto por el método `predict_proba`\n",
    "* Probar con distintos valores del parámetro de regularización $L_1$, viendo los pesos que se anulan y mostrando gráficamente la magnitud de los mismos. "
   ]
  },
  {
   "cell_type": "markdown",
   "metadata": {},
   "source": [
    "### Solución:"
   ]
  },
  {
   "cell_type": "code",
   "execution_count": null,
   "metadata": {},
   "outputs": [],
   "source": [
    "\n",
    "\n",
    "\n",
    "\n"
   ]
  }
 ],
 "metadata": {
  "kernelspec": {
   "display_name": "Python 3",
   "language": "python",
   "name": "python3"
  },
  "language_info": {
   "codemirror_mode": {
    "name": "ipython",
    "version": 3
   },
   "file_extension": ".py",
   "mimetype": "text/x-python",
   "name": "python",
   "nbconvert_exporter": "python",
   "pygments_lexer": "ipython3",
   "version": "3.7.1"
  },
  "latex_metadata": {
   "author": "Andreas C. M\\\"ller",
   "title": "Machine Learning with Python"
  }
 },
 "nbformat": 4,
 "nbformat_minor": 1
}
