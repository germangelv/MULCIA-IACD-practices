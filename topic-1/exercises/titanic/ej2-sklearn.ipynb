{
 "cells": [
  {
   "cell_type": "markdown",
   "metadata": {},
   "source": [
    "## Inteligencia Artificial para la Ciencia de los Datos\n",
    "\n",
    "## Máster en Lógica, Computación e Inteligencia Artificial "
   ]
  },
  {
   "cell_type": "code",
   "execution_count": 136,
   "metadata": {},
   "outputs": [],
   "source": [
    "import numpy as np\n",
    "from matplotlib import pyplot as plt\n",
    "%matplotlib inline"
   ]
  },
  {
   "cell_type": "markdown",
   "metadata": {},
   "source": [
    "### Práctica 2 con scikit learn"
   ]
  },
  {
   "cell_type": "markdown",
   "metadata": {},
   "source": [
    "Vamos a mostrar aquí como  cargar un conjunto de datos que ya existe en scikit_learn, y cómo aplicarle un clasificador (knn en este caso), y evaluando el rendimiento. "
   ]
  },
  {
   "cell_type": "markdown",
   "metadata": {},
   "source": [
    "## Carga de datos: iris\n",
    "\n",
    "Para nuestros ejemplos, usremos el conjunto de datos de la flor de iris, disponible en scikit-learn como uno de los conjuntos predefinidos de la biblioteca"
   ]
  },
  {
   "cell_type": "markdown",
   "metadata": {},
   "source": [
    "#### Ejercicio 1\n",
    "\n",
    "Cargar el conjunto de datos del iris en una variable `iris`. Mostrar el número de ejemplos y de columnas, los nombres de las caractaerísticas y los nombres de las posibles clases (indicación: consultar `load_iris` en el manual)."
   ]
  },
  {
   "cell_type": "code",
   "execution_count": 137,
   "metadata": {},
   "outputs": [],
   "source": [
    "# === Solución\n",
    "from sklearn.datasets import load_iris\n"
   ]
  },
  {
   "cell_type": "code",
   "execution_count": 138,
   "metadata": {},
   "outputs": [],
   "source": [
    "# Datos\n",
    "iris = load_iris()"
   ]
  },
  {
   "cell_type": "code",
   "execution_count": 139,
   "metadata": {},
   "outputs": [
    {
     "data": {
      "text/plain": [
       "(150, 4)"
      ]
     },
     "execution_count": 139,
     "metadata": {},
     "output_type": "execute_result"
    }
   ],
   "source": [
    "# Número de filas y columnas\n",
    "iris.data.shape\n"
   ]
  },
  {
   "cell_type": "code",
   "execution_count": 140,
   "metadata": {},
   "outputs": [
    {
     "data": {
      "text/plain": [
       "['sepal length (cm)',\n",
       " 'sepal width (cm)',\n",
       " 'petal length (cm)',\n",
       " 'petal width (cm)']"
      ]
     },
     "execution_count": 140,
     "metadata": {},
     "output_type": "execute_result"
    }
   ],
   "source": [
    "# Nombre de las cuatro columnas:\n",
    "\n",
    "iris.feature_names"
   ]
  },
  {
   "cell_type": "code",
   "execution_count": 141,
   "metadata": {},
   "outputs": [
    {
     "data": {
      "text/plain": [
       "array(['setosa', 'versicolor', 'virginica'], dtype='<U10')"
      ]
     },
     "execution_count": 141,
     "metadata": {},
     "output_type": "execute_result"
    }
   ],
   "source": [
    "# Nombre de las clases:\n",
    "iris.target_names"
   ]
  },
  {
   "cell_type": "code",
   "execution_count": 142,
   "metadata": {},
   "outputs": [
    {
     "data": {
      "text/plain": [
       "array([0, 0, 0, 0, 0, 0, 0, 0, 0, 0, 0, 0, 0, 0, 0, 0, 0, 0, 0, 0, 0, 0,\n",
       "       0, 0, 0, 0, 0, 0, 0, 0, 0, 0, 0, 0, 0, 0, 0, 0, 0, 0, 0, 0, 0, 0,\n",
       "       0, 0, 0, 0, 0, 0, 1, 1, 1, 1, 1, 1, 1, 1, 1, 1, 1, 1, 1, 1, 1, 1,\n",
       "       1, 1, 1, 1, 1, 1, 1, 1, 1, 1, 1, 1, 1, 1, 1, 1, 1, 1, 1, 1, 1, 1,\n",
       "       1, 1, 1, 1, 1, 1, 1, 1, 1, 1, 1, 1, 2, 2, 2, 2, 2, 2, 2, 2, 2, 2,\n",
       "       2, 2, 2, 2, 2, 2, 2, 2, 2, 2, 2, 2, 2, 2, 2, 2, 2, 2, 2, 2, 2, 2,\n",
       "       2, 2, 2, 2, 2, 2, 2, 2, 2, 2, 2, 2, 2, 2, 2, 2, 2, 2])"
      ]
     },
     "execution_count": 142,
     "metadata": {},
     "output_type": "execute_result"
    }
   ],
   "source": [
    "# Valores de clasificación de cada ejemplo\n",
    "# 0:setosa, 1:versicolor, 2:virginica \n",
    "iris.target"
   ]
  },
  {
   "cell_type": "code",
   "execution_count": 143,
   "metadata": {},
   "outputs": [],
   "source": [
    "# Cargamos los datos en variables X_iris, y_iris\n",
    "# En X_names, y_names los nombres de las columnas y las clases, resp.\n",
    "x_iris, y_iris = iris.data, iris.target\n",
    "x_names, y_names = iris.feature_names, iris.target_names\n",
    "\n",
    "\n"
   ]
  },
  {
   "cell_type": "markdown",
   "metadata": {},
   "source": [
    "## Visualización de los datos \n"
   ]
  },
  {
   "cell_type": "markdown",
   "metadata": {},
   "source": [
    "#### Ejercicio 2\n",
    "\n",
    "Puesto que los datos son 4-dimensionales, para tener algún tipo de visualización, puede ser interesante tener representaciones 2D en las que tenemos en cuanta sólo dos de las cuatro características. \n",
    "\n",
    "Por ejemplo, hacer en una única gráfica tres nubes de puntos. Cada punto representa un ejemplo del conjunto de datos, con coordenadas dadas resectivamente por la longitud y la anchura de sépalo. Los puntos de cada clase se distinguen por su color y su forma. Por ejemplo:\n",
    "\n",
    "<img src=\"https://www.cs.us.es/~jruiz/repository/iris.png\">"
   ]
  },
  {
   "cell_type": "code",
   "execution_count": 144,
   "metadata": {},
   "outputs": [
    {
     "data": {
      "text/plain": [
       "<matplotlib.legend.Legend at 0x12bf93d5220>"
      ]
     },
     "execution_count": 144,
     "metadata": {},
     "output_type": "execute_result"
    },
    {
     "data": {
      "image/png": "[encoded data removed]",
      "text/plain": [
       "<Figure size 432x288 with 1 Axes>"
      ]
     },
     "metadata": {
      "needs_background": "light"
     },
     "output_type": "display_data"
    }
   ],
   "source": [
    "# ==== Solución:\n",
    "# la columna cero que cumple en y_iris es cero\n",
    "x_iris[y_iris==0,0]\n",
    "plt.scatter(x_iris[y_iris==0,0], x_iris[y_iris==0,1], marker=\"s\",c=\"r\")\n",
    "plt.scatter(x_iris[y_iris==1,0], x_iris[y_iris==1,1], marker=\"o\",c=\"g\")\n",
    "plt.scatter(x_iris[y_iris==2,0], x_iris[y_iris==2,1], marker=\"D\",c=\"b\")\n",
    "plt.xlabel(\"Longitud de sépalo\")\n",
    "plt.xlabel(\"Anchura de sépalo\")\n",
    "plt.legend(y_names)\n",
    "# aca solo etsamos viendo 2 caracteristicas y solo en esas 2 parece que setosa es facil de separar pero las otras dos caracteristicas no son tan facile sd eseparar\n"
   ]
  },
  {
   "cell_type": "markdown",
   "metadata": {},
   "source": [
    "#### Ejercicio 3\n",
    "\n",
    "Definir una función:\n",
    "\n",
    "  `representacion_grafica_iris(c1,c2)`\n",
    "  \n",
    "que generalice la construcción de la gráfica anterior, permitiendo dar las columnas `c1` y `c2` (sus índices) que indican que dos características se usan como coordenadas en la representación 2D.\n",
    "\n",
    "Por ejemplo, `representacion_grafica_iris(0,1)` mostraría el gráfico anterior."
   ]
  },
  {
   "cell_type": "code",
   "execution_count": 145,
   "metadata": {},
   "outputs": [
    {
     "data": {
      "image/png": "[encoded data removed]",
      "text/plain": [
       "<Figure size 432x288 with 1 Axes>"
      ]
     },
     "metadata": {
      "needs_background": "light"
     },
     "output_type": "display_data"
    }
   ],
   "source": [
    "# === Solución:\n",
    "def representacion_grafica_iris(c1,c2):\n",
    "    plt.scatter(x_iris[y_iris==0,c1], x_iris[y_iris==0,c2], marker=\"s\",c=\"r\")\n",
    "    plt.scatter(x_iris[y_iris==1,c1], x_iris[y_iris==1,c2], marker=\"o\",c=\"g\")\n",
    "    plt.scatter(x_iris[y_iris==2,c1], x_iris[y_iris==2,c2], marker=\"D\",c=\"b\")\n",
    "    plt.xlabel(\"Longitud de sépalo\")\n",
    "    plt.xlabel(\"Anchura de sépalo\")\n",
    "    plt.legend(y_names)\n",
    "    \n",
    "\n",
    "representacion_grafica_iris(0,3)"
   ]
  },
  {
   "cell_type": "markdown",
   "metadata": {},
   "source": [
    "## Separación de los datos\n",
    "\n",
    "#### Ejercicio 4\n",
    "\n",
    "Separar el total de datos en entrenamiento y prueba (75%-25%)"
   ]
  },
  {
   "cell_type": "code",
   "execution_count": 146,
   "metadata": {},
   "outputs": [],
   "source": [
    "# === Solución\n",
    "from sklearn.model_selection import train_test_split\n",
    "# como los datos vienen en datos y nombres, hay que partir los 2 en simultaneo\n",
    "x_train, x_test, y_train, y_test=train_test_split(x_iris, y_iris, test_size=0.25, random_state=1, stratify=y_iris)\n",
    "# lo ponemos en uno al random para ver igual que el profe, lo correcto es que sea menor "
   ]
  },
  {
   "cell_type": "code",
   "execution_count": 147,
   "metadata": {},
   "outputs": [
    {
     "data": {
      "text/plain": [
       "(array([0, 1, 2]), array([38, 37, 37], dtype=int64))"
      ]
     },
     "execution_count": 147,
     "metadata": {},
     "output_type": "execute_result"
    }
   ],
   "source": [
    "# conjunto de datos estratificados\n",
    "import numpy as np\n",
    "np.unique(y_train, return_counts=True)\n",
    "\n"
   ]
  },
  {
   "cell_type": "markdown",
   "metadata": {},
   "source": [
    "## Normalización de los datos\n",
    "\n",
    "Frecuentemente no todas las características son de la misma magnitud, lo que puede interferir en la precisión de los modelos aprendidos. En scikit-learn podemos normalizar los datos   "
   ]
  },
  {
   "cell_type": "markdown",
   "metadata": {},
   "source": [
    "Un normalizador que se usa con frencuencia es el normalizador estándar, que ajusta cada caractarística para que su media sea cero y su desviación típica 1."
   ]
  },
  {
   "cell_type": "markdown",
   "metadata": {},
   "source": [
    "#### Ejercicio 5\n",
    "\n",
    "Normalizar los datos usando `StandardScaler`"
   ]
  },
  {
   "cell_type": "code",
   "execution_count": 148,
   "metadata": {},
   "outputs": [],
   "source": [
    "# === Solución:\n",
    "from sklearn.preprocessing import StandardScaler\n",
    "# Crear y ajustar el normalizador\n",
    "#x_scaled = StandardScaler().fit_transform(x_train)\n",
    "normalizador = StandardScaler().fit(x_train)\n"
   ]
  },
  {
   "cell_type": "markdown",
   "metadata": {},
   "source": [
    "Podemos incluso acceder a los parámetros que se han \"aprendido\" tras hacer fit, ya que quedan guardado en un par de atributos del objeto normalizador:"
   ]
  },
  {
   "cell_type": "code",
   "execution_count": 149,
   "metadata": {},
   "outputs": [
    {
     "data": {
      "text/plain": [
       "StandardScaler()"
      ]
     },
     "execution_count": 149,
     "metadata": {},
     "output_type": "execute_result"
    }
   ],
   "source": [
    "# Imprimir las medias y desviaciones típicas calculadas\n",
    "x_scaled"
   ]
  },
  {
   "cell_type": "markdown",
   "metadata": {},
   "source": [
    "Ahora podemos aplicar el método transform para normalizar cualquier conjunto de datos, usnado los parámetros calculados:"
   ]
  },
  {
   "cell_type": "code",
   "execution_count": 150,
   "metadata": {},
   "outputs": [],
   "source": [
    "# Transformar los datos\n",
    "Xn_train=normalizador.transform(x_train)\n",
    "\n"
   ]
  },
  {
   "cell_type": "code",
   "execution_count": 154,
   "metadata": {},
   "outputs": [
    {
     "name": "stdout",
     "output_type": "stream",
     "text": [
      "[ 0.61711242 -0.43086994  0.25987044  1.19056259  0.1714524   0.18266944\n",
      " -0.93335848 -0.80168272  1.16584313  0.91441744 -0.97375289 -0.05039218\n",
      "  1.01359563  0.46871986 -0.62124896 -0.41977445 -1.4842593  -0.92002744\n",
      " -0.97692434  0.55356272 -0.01769536 -0.52113487  0.28546037 -0.26546522\n",
      " -1.13887491  0.75994962 -0.41951961 -0.58234065  1.06069563  0.58480131\n",
      " -0.9188367   1.45606913 -0.60343472 -0.52137464  0.42919591  0.1453\n",
      "  0.20080396  0.98265203  0.54589299  0.61151655 -0.1924273   0.58860346\n",
      "  0.49750858  0.2726918   0.9476518   0.58593926 -0.31687462  1.70753533\n",
      " -0.15493912  0.112053   -0.89151848 -0.67024901 -0.32477147 -0.65449597\n",
      "  0.87170698 -0.9042744   0.85553999 -1.02245758 -0.4234677  -0.06676085\n",
      "  0.84879389 -0.19894628 -0.99337351 -0.03582989 -0.85820603 -0.51639682\n",
      "  0.4387248   0.34247829 -0.19355261 -0.37051957 -0.59747806 -0.77206353\n",
      "  0.13196897  0.48494206  0.1705165   0.14493922 -0.21132634  1.06930126\n",
      " -0.55325657 -0.48693689  0.7139872   0.05735113 -0.28890078 -0.40503782\n",
      " -0.59361047 -0.63725684 -0.19650921  0.77358829  1.07715797 -0.09972757\n",
      " -0.24818609  0.27089808  1.00019916 -0.70356146 -0.94911151  0.40276081\n",
      " -1.22884448  0.80931046 -0.25558834  0.52750363 -0.69353811  1.66034166\n",
      " -0.40652392  1.01178926 -0.56769785  0.97024462 -0.43622362  0.1214105\n",
      " -0.49828722 -0.02456006 -0.6595543  -0.16377188]\n"
     ]
    }
   ],
   "source": [
    "# Comprobar las nuevas media y desviación típica de los datos normalizados\n",
    "# lo que hace es el axis 0 eje de las filas hace cada columna y pobtiene la media\n",
    "print(Xn_train.mean(axis=0))\n",
    "print(Xn_train.mean(axis=1))\n"
   ]
  },
  {
   "cell_type": "markdown",
   "metadata": {},
   "source": [
    "## Clasificador Knn\n",
    "\n",
    "#### Ejercicio 6\n",
    "\n",
    "Aplicar a los datos normalizados el clasificador Knn (`KNeighborsClassifier`) con n=7, y medir el rendimiento dobre el conjunto de entrenamiento"
   ]
  },
  {
   "cell_type": "code",
   "execution_count": 167,
   "metadata": {},
   "outputs": [],
   "source": [
    "# ==== Solución\n",
    "from sklearn.neighbors import KNeighborsClassifier\n",
    "Knn7_iris=KNeighborsClassifier(n_neighbors=7)\n",
    "# Crear el clasificador"
   ]
  },
  {
   "cell_type": "markdown",
   "metadata": {},
   "source": [
    "Lo entrenamos, con los datos normalizados. Obsérvese cómo el resultado de entrenar es el propio clasificador:"
   ]
  },
  {
   "cell_type": "code",
   "execution_count": 168,
   "metadata": {},
   "outputs": [
    {
     "data": {
      "text/plain": [
       "KNeighborsClassifier(n_neighbors=7)"
      ]
     },
     "execution_count": 168,
     "metadata": {},
     "output_type": "execute_result"
    }
   ],
   "source": [
    "# Entrenarlo\n",
    "Knn7_iris.fit(Xn_train, y_train)\n",
    "# de etsa form le pasamos los datos de entrenamiento a una precalculo de Knn"
   ]
  },
  {
   "cell_type": "code",
   "execution_count": 169,
   "metadata": {},
   "outputs": [
    {
     "data": {
      "text/plain": [
       "0.9642857142857143"
      ]
     },
     "execution_count": 169,
     "metadata": {},
     "output_type": "execute_result"
    }
   ],
   "source": [
    "# Medir el rendimiento sobre el conjunto de entrenamiento\n",
    "Knn7_iris.predict(Xn_train), y_train\n",
    "Knn7_iris.score(Xn_train, y_train)\n",
    "# con n_neighbors da 100% pero es inutil porque de uan forma estas haciendo sobreajuste\n"
   ]
  },
  {
   "cell_type": "markdown",
   "metadata": {},
   "source": [
    "#### Ejercicio 7\n",
    "\n",
    "Comparar las predicciones que hace el clasificador sobre el conjunto de test, respecto de las reales. Medir el rendimiento del clasificador sobre el conjunto de test"
   ]
  },
  {
   "cell_type": "code",
   "execution_count": 172,
   "metadata": {},
   "outputs": [
    {
     "data": {
      "text/plain": [
       "0.9473684210526315"
      ]
     },
     "execution_count": 172,
     "metadata": {},
     "output_type": "execute_result"
    }
   ],
   "source": [
    "# ==== Solución:\n",
    "\n",
    "# Predicciones:\n",
    "# para normalizar el test no se debe usar el test, hay que usar el entrenamiento (trasladado y escalado)\n",
    "Xn_test=normalizador.transform(x_test)\n",
    "Knn7_iris.score(Xn_test, y_test)\n",
    "# Es normal que ontengamos mejor en train que en test\n"
   ]
  },
  {
   "cell_type": "markdown",
   "metadata": {},
   "source": [
    "Las clases reales son las siguientes:"
   ]
  },
  {
   "cell_type": "code",
   "execution_count": 20,
   "metadata": {},
   "outputs": [],
   "source": [
    "# Clases reales:\n",
    "\n"
   ]
  },
  {
   "cell_type": "markdown",
   "metadata": {},
   "source": [
    "Como se observa, la predicción ha sido bastante buena. El método score del clasificador (que calcula el porcentaje de ejemplos cuya predicción es la correcta), nos lo confirma:"
   ]
  },
  {
   "cell_type": "code",
   "execution_count": 21,
   "metadata": {},
   "outputs": [],
   "source": [
    "# Dar el rendimiento sobre test\n",
    "\n"
   ]
  },
  {
   "cell_type": "markdown",
   "metadata": {},
   "source": [
    "## Datos del cancer de mama"
   ]
  },
  {
   "cell_type": "markdown",
   "metadata": {},
   "source": [
    "Los datos *UCI ML Breast Cancer Wisconsin* son datos que clasifican imágenes de tumores en el pecho, en malignos y benignos, junto con una serie de características tomadas de la imagen (radio, textura,...) Son en total 569 datos con 30 características.\n",
    "\n",
    "En scikit learn están accesibles con `load_breast_cancer`. "
   ]
  },
  {
   "cell_type": "markdown",
   "metadata": {},
   "source": [
    "#### Ejercicio 8\n",
    "\n",
    "Aplicar Knn (con n=5) a dicho conjunto. Separar en entrenamiento y prueba, y normalizar previamente, como en el ejercicio anterior. Calcular el rendimiento, tanto sobre entrenamiento como con prueba. "
   ]
  },
  {
   "cell_type": "code",
   "execution_count": 22,
   "metadata": {},
   "outputs": [],
   "source": [
    "# === Solución:\n",
    "# hacer lo mismoq ue lo anteriorpero en uan soa celda\n",
    "\n",
    "\n",
    "\n",
    "\n"
   ]
  },
  {
   "cell_type": "markdown",
   "metadata": {},
   "source": [
    "#### Ejercicio 9\n",
    "\n",
    "Dibujar una gráfica (mediante `plot` de `matplotlib.pyplot`) en el que se muestre como evoluciona el rendimiento del clasificador knn en función del número de vecinos (de 1 a 10), tanto en entrenamiento como en test.\n",
    "\n",
    "Comentar el resultado de la gráfica."
   ]
  },
  {
   "cell_type": "code",
   "execution_count": 23,
   "metadata": {},
   "outputs": [],
   "source": [
    "# === Solución\n",
    "# cuando aumente los vecimos va a ir bajando\n",
    "# sin embargo el test a mayor vecinos va a ir aumentando\n",
    "# perdemos en el entrenamiento y ganamos en datos independiente\n",
    "\n"
   ]
  },
  {
   "cell_type": "code",
   "execution_count": null,
   "metadata": {},
   "outputs": [],
   "source": []
  }
 ],
 "metadata": {
  "kernelspec": {
   "display_name": "Python 3 (ipykernel)",
   "language": "python",
   "name": "python3"
  },
  "language_info": {
   "codemirror_mode": {
    "name": "ipython",
    "version": 3
   },
   "file_extension": ".py",
   "mimetype": "text/x-python",
   "name": "python",
   "nbconvert_exporter": "python",
   "pygments_lexer": "ipython3",
   "version": "3.9.7"
  }
 },
 "nbformat": 4,
 "nbformat_minor": 2
}
