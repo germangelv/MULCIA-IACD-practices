{
 "cells": [
  {
   "cell_type": "markdown",
   "metadata": {},
   "source": [
    "# Tema 1: Herramientas python para ciencia de los datos"
   ]
  },
  {
   "cell_type": "markdown",
   "metadata": {},
   "source": [
    "## Ejercicios de Numpy"
   ]
  },
  {
   "cell_type": "code",
   "execution_count": 15,
   "metadata": {},
   "outputs": [],
   "source": [
    "import numpy as np"
   ]
  },
  {
   "cell_type": "markdown",
   "metadata": {},
   "source": [
    "#### Ejercicio 1\n",
    "\n",
    "Generar una matrix aleatoria 3x4 y normalizar sus componentes (trasladándolos y escalándolos) de manera que el menor sea 0 y el mayor 1."
   ]
  },
  {
   "cell_type": "code",
   "execution_count": 41,
   "metadata": {},
   "outputs": [
    {
     "name": "stdout",
     "output_type": "stream",
     "text": [
      "[[8 3 5 7]\n",
      " [7 3 5 9]\n",
      " [9 4 3 5]] [7 3 3 5] [9 4 5 9]\n",
      "[[0.83333333 0.         0.33333333 0.66666667]\n",
      " [0.66666667 0.         0.33333333 1.        ]\n",
      " [1.         0.16666667 0.         0.33333333]]\n"
     ]
    }
   ],
   "source": [
    "A = np.random.randint(10, size=(3,4))\n",
    "print(A, A.min(axis=0), A.max(axis=0))\n",
    "normalice =(A - A.min()) / (A.max() - A.min())\n",
    "print(normalice)"
   ]
  },
  {
   "cell_type": "code",
   "execution_count": null,
   "metadata": {},
   "outputs": [],
   "source": [
    "# Ejemplo:\n",
    "\n",
    "# array original:\n",
    "\n",
    "# array([[ 1,  4, -4, -4],\n",
    "#        [ 4,  1, -5,  1],\n",
    "#        [ 2, -3,  0, -4]]\n",
    "\n",
    "# array normalizado\n",
    "# array([[0.66666667, 1.        , 0.11111111, 0.11111111],\n",
    "#        [1.        , 0.66666667, 0.        , 0.66666667],\n",
    "#        [0.77777778, 0.22222222, 0.55555556, 0.11111111]])\n",
    "\n",
    "\n",
    "\n",
    "\n",
    "\n"
   ]
  },
  {
   "cell_type": "markdown",
   "metadata": {},
   "source": [
    "#### Ejercicio 2\n",
    "\n",
    "Construir una matriz 3x4 cuyas tres filas son los elementos del 0 al 3"
   ]
  },
  {
   "cell_type": "code",
   "execution_count": 59,
   "metadata": {},
   "outputs": [
    {
     "name": "stdout",
     "output_type": "stream",
     "text": [
      "[[0. 0. 0. 0.]\n",
      " [0. 0. 0. 0.]\n",
      " [0. 0. 0. 0.]] [0 1 2 3]\n"
     ]
    }
   ],
   "source": [
    "# Matriz con ceros\n",
    "B = np.zeros((3,4))\n",
    "# Matriz con 4 elementos\n",
    "C = np.arange(4)\n",
    "\n",
    "print(B, C)\n"
   ]
  },
  {
   "cell_type": "code",
   "execution_count": null,
   "metadata": {},
   "outputs": [],
   "source": [
    "#### Ejemplo:\n",
    "#array([[0., 1., 2., 3.],\n",
    "#       [0., 1., 2., 3.],\n",
    "#       [0., 1., 2., 3.]])\n",
    "\n"
   ]
  },
  {
   "cell_type": "markdown",
   "metadata": {},
   "source": [
    "#### Ejercicio 3\n",
    "\n",
    "En una matriz 20x20, obtener la matriz que se obtiene al extraer las filas de índice par y las columnas de índice impar."
   ]
  },
  {
   "cell_type": "code",
   "execution_count": 60,
   "metadata": {},
   "outputs": [
    {
     "data": {
      "text/plain": [
       "array([[  1,   3,   5,   7,   9,  11,  13,  15,  17,  19],\n",
       "       [ 41,  43,  45,  47,  49,  51,  53,  55,  57,  59],\n",
       "       [ 81,  83,  85,  87,  89,  91,  93,  95,  97,  99],\n",
       "       [121, 123, 125, 127, 129, 131, 133, 135, 137, 139],\n",
       "       [161, 163, 165, 167, 169, 171, 173, 175, 177, 179],\n",
       "       [201, 203, 205, 207, 209, 211, 213, 215, 217, 219],\n",
       "       [241, 243, 245, 247, 249, 251, 253, 255, 257, 259],\n",
       "       [281, 283, 285, 287, 289, 291, 293, 295, 297, 299],\n",
       "       [321, 323, 325, 327, 329, 331, 333, 335, 337, 339],\n",
       "       [361, 363, 365, 367, 369, 371, 373, 375, 377, 379]])"
      ]
     },
     "execution_count": 60,
     "metadata": {},
     "output_type": "execute_result"
    }
   ],
   "source": [
    "# Crear un array cualquier de 400 elementos y redimencionarlos a 20x20\n",
    "D=np.arange(400).reshape(20,20)\n",
    "# print(D)\n",
    "# Las columnas de indice par con los elementos de indice impar\n",
    "D[::2,1::2]\n"
   ]
  },
  {
   "cell_type": "markdown",
   "metadata": {},
   "source": [
    "#### Ejercicio 4\n",
    "\n",
    "Dada una matriz A de tamaño 10x4 y otra B de tamaño 10x1 con valores entre 0 y 100, devolver una matriz conteniendo las filas que corresponden a las posiciones de B que son mayores de 50 "
   ]
  },
  {
   "cell_type": "code",
   "execution_count": 65,
   "metadata": {},
   "outputs": [
    {
     "name": "stdout",
     "output_type": "stream",
     "text": [
      "[[19  6 78 44]\n",
      " [ 4 26 49 93]\n",
      " [ 2 98 97 24]\n",
      " [21 64  0  0]\n",
      " [ 5 33 93 67]\n",
      " [36 51 87 17]\n",
      " [13 11 91  2]\n",
      " [46 84 71 24]\n",
      " [33 45 13 49]\n",
      " [10 80 45 83]] [ 2 41 64 23 21  2 65 18 73 89]\n",
      "[[ 2 98 97 24]\n",
      " [13 11 91  2]\n",
      " [33 45 13 49]\n",
      " [10 80 45 83]]\n"
     ]
    }
   ],
   "source": [
    "# Creo matriz de 100\n",
    "A=np.random.randint(100, size=(10,4))\n",
    "# Creo matrz de 10\n",
    "B=np.random.randint(100, size=(10,))\n",
    "print(A,B)\n",
    "# b>50 es booleana, luego A sera una regla sobre a regla anterior\n",
    "print(A[B>50])"
   ]
  },
  {
   "cell_type": "code",
   "execution_count": null,
   "metadata": {},
   "outputs": [],
   "source": [
    "#### Ejemplo:\n",
    "\n",
    "# Si A es:\n",
    "# array([[59, 53, 45, 76],\n",
    "#        [65, 43, 22, 88],\n",
    "#        [29, 59,  8, 57],\n",
    "#        [77, 85, 70, 48],\n",
    "#        [29, 72, 35, 79],\n",
    "#        [ 8, 99, 64, 76],\n",
    "#        [53, 80, 50, 40],\n",
    "#        [82, 99, 28, 22],\n",
    "#        [10, 59, 13, 41],\n",
    "#        [81, 75, 53, 75]]\n",
    "#\n",
    "# Y B es:\n",
    "# array([14, 17, 75, 40, 86, 16, 77, 81, 77, 50]))\n",
    "\n",
    "# Entonces se pide obtener:\n",
    "\n",
    "#array([[29, 59,  8, 57],\n",
    "#       [29, 72, 35, 79],\n",
    "#       [53, 80, 50, 40],\n",
    "#       [82, 99, 28, 22],\n",
    "#       [10, 59, 13, 41]])\n",
    "\n",
    "\n"
   ]
  },
  {
   "cell_type": "markdown",
   "metadata": {},
   "source": [
    "#### Ejercicio 5\n",
    "\n",
    "Definir una función `f_1_0(n)` que recibe un número natural n y devuelve un array bidimensional de n filas y n columnas que tiene 1s en los bordes y 0s en el interior."
   ]
  },
  {
   "cell_type": "code",
   "execution_count": 70,
   "metadata": {},
   "outputs": [
    {
     "name": "stdout",
     "output_type": "stream",
     "text": [
      "[[1.]]\n"
     ]
    }
   ],
   "source": [
    "# Verlo despues\n",
    "def f_1_0(dato):\n",
    "    A=np.ones((dato, dato))\n",
    "    A[1:-1,1:-1]=0\n",
    "    return A\n",
    "print(f_1_0(1))"
   ]
  },
  {
   "cell_type": "code",
   "execution_count": null,
   "metadata": {},
   "outputs": [],
   "source": [
    "# Ejemplo:\n",
    "\n",
    "# >>> f_1_0(10)\n",
    "\n",
    "# array([[1., 1., 1., 1., 1., 1., 1., 1.],\n",
    "#       [1., 0., 0., 0., 0., 0., 0., 1.],\n",
    "#       [1., 0., 0., 0., 0., 0., 0., 1.],\n",
    "#       [1., 0., 0., 0., 0., 0., 0., 1.],\n",
    "#       [1., 0., 0., 0., 0., 0., 0., 1.],\n",
    "#       [1., 0., 0., 0., 0., 0., 0., 1.],\n",
    "#       [1., 0., 0., 0., 0., 0., 0., 1.],\n",
    "#       [1., 1., 1., 1., 1., 1., 1., 1.]])\n",
    "\n"
   ]
  },
  {
   "cell_type": "markdown",
   "metadata": {},
   "source": [
    "#### Ejercicio 6\n",
    "\n",
    "Generar un array unidimensional, con enteros de 20 a 32, y a continuación, usando indexado, invertir el orden. "
   ]
  },
  {
   "cell_type": "code",
   "execution_count": null,
   "metadata": {},
   "outputs": [],
   "source": []
  },
  {
   "cell_type": "code",
   "execution_count": null,
   "metadata": {},
   "outputs": [],
   "source": [
    "# Ejemplo:\n",
    "\n",
    "# A partir del array([32, 31, 30, 29, 28, 27, 26, 25, 24, 23, 22, 21, 20]), generar:\n",
    "# array([32, 31, 30, 29, 28, 27, 26, 25, 24, 23, 22, 21, 20])\n",
    "\n",
    "\n"
   ]
  },
  {
   "cell_type": "markdown",
   "metadata": {},
   "source": [
    "#### Ejercicio 7\n",
    "\n",
    "Definir una función g tal que dado un número natural n y otro entero k, obtiene un array bidimensional n x n con k (entero) en todas sus componentes \n",
    "\n"
   ]
  },
  {
   "cell_type": "code",
   "execution_count": 71,
   "metadata": {},
   "outputs": [
    {
     "name": "stdout",
     "output_type": "stream",
     "text": [
      "[]\n"
     ]
    }
   ],
   "source": [
    "# No lo hizo"
   ]
  },
  {
   "cell_type": "code",
   "execution_count": null,
   "metadata": {},
   "outputs": [],
   "source": [
    "# Ejemplo:\n",
    "\n",
    "# >>> g(5,9)\n",
    "\n",
    "# array([[9, 9, 9, 9, 9],\n",
    "#        [9, 9, 9, 9, 9],\n",
    "#        [9, 9, 9, 9, 9],\n",
    "#        [9, 9, 9, 9, 9],\n",
    "#        [9, 9, 9, 9, 9]], dtype=int32)\n",
    "\n"
   ]
  },
  {
   "cell_type": "markdown",
   "metadata": {},
   "source": [
    "#### Ejercicio 8\n",
    "\n",
    "Crear una matriz bidimensional 8x8 con 1s y 0s como en un tablero de ajedrez.\n"
   ]
  },
  {
   "cell_type": "code",
   "execution_count": 72,
   "metadata": {},
   "outputs": [
    {
     "name": "stdout",
     "output_type": "stream",
     "text": [
      "[[0 0 0 0 0 0 0 0]\n",
      " [0 0 0 0 0 0 0 0]\n",
      " [0 0 0 0 0 0 0 0]\n",
      " [0 0 0 0 0 0 0 0]\n",
      " [0 0 0 0 0 0 0 0]\n",
      " [0 0 0 0 0 0 0 0]\n",
      " [0 0 0 0 0 0 0 0]\n",
      " [0 0 0 0 0 0 0 0]]\n"
     ]
    }
   ],
   "source": [
    "A=np.zeros((8,8), dtype = int)\n",
    "# Falta el paseo por los datos\n",
    "print(A)"
   ]
  },
  {
   "cell_type": "code",
   "execution_count": 73,
   "metadata": {},
   "outputs": [],
   "source": [
    "# Ejemplo:\n",
    "\n",
    "# array([[1, 0, 1, 0, 1, 0, 1, 0],\n",
    "#        [0, 1, 0, 1, 0, 1, 0, 1],\n",
    "#        [1, 0, 1, 0, 1, 0, 1, 0],\n",
    "#        [0, 1, 0, 1, 0, 1, 0, 1],\n",
    "#        [1, 0, 1, 0, 1, 0, 1, 0],\n",
    "#        [0, 1, 0, 1, 0, 1, 0, 1],\n",
    "#        [1, 0, 1, 0, 1, 0, 1, 0],\n",
    "#        [0, 1, 0, 1, 0, 1, 0, 1]], dtype=int32)\n",
    "\n"
   ]
  },
  {
   "cell_type": "markdown",
   "metadata": {},
   "source": [
    "#### Ejercicio 9\n",
    "\n",
    "Generar una matriz 5x5 y normalizarla (restar la media y dividiendo por la desviación típica de todos los elementos). Hacerlo también normalizando cada columna por separado (restando la media y diviendo por la desviación típica de la columna en la que está el elemento).   "
   ]
  },
  {
   "cell_type": "code",
   "execution_count": 83,
   "metadata": {},
   "outputs": [
    {
     "name": "stdout",
     "output_type": "stream",
     "text": [
      "[[ 0  1  2  3  4]\n",
      " [ 5  6  7  8  9]\n",
      " [10 11 12 13 14]\n",
      " [15 16 17 18 19]\n",
      " [20 21 22 23 24]]\n",
      "[[-1.41421356 -0.55563492  0.30294373  1.16152237  2.02010101]\n",
      " [ 3.58578644  4.44436508  5.30294373  6.16152237  7.02010101]\n",
      " [ 8.58578644  9.44436508 10.30294373 11.16152237 12.02010101]\n",
      " [13.58578644 14.44436508 15.30294373 16.16152237 17.02010101]\n",
      " [18.58578644 19.44436508 20.30294373 21.16152237 22.02010101]]\n"
     ]
    }
   ],
   "source": [
    "A=np.arange(25).reshape(5,5)\n",
    "print(A)\n",
    "# La media de cada columna dividiendo por la otra con el truco de axis\n",
    "# Ver la funcion std\n",
    "B=A-A.mean(axis=0)/A.std(axis=0)\n",
    "print(B)\n",
    "# (A - A.min()) / (A.max() - A.min())"
   ]
  },
  {
   "cell_type": "code",
   "execution_count": null,
   "metadata": {},
   "outputs": [],
   "source": [
    "# Ejemplo:\n",
    "\n",
    "# Si A es:\n",
    "\n",
    "# array([[ 0,  1,  2,  3,  4],\n",
    "#        [ 5,  6,  7,  8,  9],\n",
    "#        [10, 11, 12, 13, 14],\n",
    "#        [15, 16, 17, 18, 19],\n",
    "#        [20, 21, 22, 23, 24]])\n",
    "\n",
    "# Entonces con la primera normalización quedaría:\n",
    "\n",
    "# array([[-1.66410059, -1.52542554, -1.38675049, -1.24807544, -1.10940039],\n",
    "#        [-0.97072534, -0.83205029, -0.69337525, -0.5547002 , -0.41602515],\n",
    "#        [-0.2773501 , -0.13867505,  0.        ,  0.13867505,  0.2773501 ],\n",
    "#        [ 0.41602515,  0.5547002 ,  0.69337525,  0.83205029,  0.97072534],\n",
    "#        [ 1.10940039,  1.24807544,  1.38675049,  1.52542554,  1.66410059]]\n",
    "\n",
    "# Y con la normalización por columnas:\n",
    "\n",
    "# array([[-1.66410059, -1.52542554, -1.38675049, -1.24807544, -1.10940039],\n",
    "#        [-0.97072534, -0.83205029, -0.69337525, -0.5547002 , -0.41602515],\n",
    "#        [-0.2773501 , -0.13867505,  0.        ,  0.13867505,  0.2773501 ],\n",
    "#        [ 0.41602515,  0.5547002 ,  0.69337525,  0.83205029,  0.97072534],\n",
    "#        [ 1.10940039,  1.24807544,  1.38675049,  1.52542554,  1.66410059]])\n",
    "\n"
   ]
  },
  {
   "cell_type": "markdown",
   "metadata": {},
   "source": [
    "#### Ejercicio 10\n",
    "\n",
    "Cambiar de signo todos los elementos de un array de enteros que estén entre 3 y 8.\n"
   ]
  },
  {
   "cell_type": "code",
   "execution_count": null,
   "metadata": {},
   "outputs": [],
   "source": [
    "A=np.arange(12).reshape((3,4))\n",
    "# No llegue a copiarlo\n",
    "A[(A<=4)& A<=1]"
   ]
  },
  {
   "cell_type": "code",
   "execution_count": null,
   "metadata": {},
   "outputs": [],
   "source": [
    "# Ejemplo:\n",
    "\n",
    "# Si tenemos:\n",
    "\n",
    "# array([[ 0,  1,  2, 3],\n",
    "#        [ 4,  5,  6, 7],\n",
    "#        [ 8,  9, 10, 11]])\n",
    "\n",
    "# se trataría de obtener:\n",
    "\n",
    "# array([[ 0,  1,  2, -3],\n",
    "#        [-4, -5, -6, -7],\n",
    "#        [-8, -9, 10, 11]])\n",
    "\n",
    "\n"
   ]
  },
  {
   "cell_type": "markdown",
   "metadata": {},
   "source": [
    "#### Ejercicio 11\n",
    "\n",
    "Dados dos arrays bidimensionales A y B del mismo tamaño, calcular `(A+B)*(-A/2)`, de manera que las operaciones se realicen sobre el espacio de memoria de A y B, sin generar copias.\n"
   ]
  },
  {
   "cell_type": "code",
   "execution_count": null,
   "metadata": {},
   "outputs": [],
   "source": []
  },
  {
   "cell_type": "code",
   "execution_count": null,
   "metadata": {},
   "outputs": [],
   "source": []
  },
  {
   "cell_type": "markdown",
   "metadata": {},
   "source": [
    "#### Ejercicio 12\n",
    "\n",
    "Supongamos que tenemos un array unidimensional con nombres de personas, y otro con sus respectivas edades. Usando *fancy indexing* y la función `np.argsort()`, obtener un array con los nombres ordenados de menor a mayor edad. \n",
    "\n"
   ]
  },
  {
   "cell_type": "code",
   "execution_count": 85,
   "metadata": {},
   "outputs": [
    {
     "name": "stdout",
     "output_type": "stream",
     "text": [
      "['Juan' 'Luis' 'Ramón' 'Ana' 'Fernando' 'Beatriz' 'Carmen']\n"
     ]
    }
   ],
   "source": [
    "# --- Ejemplo:\n",
    "nombres=np.array([\"Juan\",\"Luis\",\"Ramón\",\"Ana\",\"Fernando\",\"Beatriz\",\"Carmen\"])\n",
    "# yo puedo usar este array como indice indexado a otro array\n",
    "edades=np.array([34,21,54,12,3,7,22])\n",
    "nombres[edades.argsort()]\n",
    "print(nombres)\n",
    "\n",
    "# Ordenados según edad: array(['Fernando', 'Beatriz', 'Ana', 'Luis', 'Carmen', 'Juan', 'Ramón'],dtype='<U8')\n",
    "\n"
   ]
  },
  {
   "cell_type": "markdown",
   "metadata": {},
   "source": [
    "#### Ejercicio 13 (Sección 4.7 del libro *Python for Data Analysis*, de W. McKinney)\n",
    "\n",
    "Un *paseo aleatorio* es una sucesión de enteros, comenzando en 0, de manera que cada uno de ellos se obtiene sumando 1 o -1 al anterior, aleatoriamente y con igual probabilidad. \n",
    "\n",
    "Este es el código python para generar paseos aleatorios de 100 pasos:"
   ]
  },
  {
   "cell_type": "code",
   "execution_count": null,
   "metadata": {},
   "outputs": [],
   "source": []
  },
  {
   "cell_type": "code",
   "execution_count": null,
   "metadata": {},
   "outputs": [],
   "source": [
    "import random\n",
    "posicion = 0\n",
    "paseo = [posicion]\n",
    "npasos = 100\n",
    "for i in range(npasos):\n",
    "    paso = 1 if random.randint(0, 1) else -1\n",
    "    posicion += paso\n",
    "    paseo.append(posicion)\n",
    "    \n",
    "print(walk)"
   ]
  },
  {
   "cell_type": "markdown",
   "metadata": {},
   "source": [
    "**13.1** Definer una función `paseo_aleatorio(npasos)` que genere un paseo aleatorio de `npasos`, **usando numpy** . *Indicación:* usar `np.where` y `np.cumsum`."
   ]
  },
  {
   "cell_type": "code",
   "execution_count": null,
   "metadata": {},
   "outputs": [],
   "source": [
    "# Ejemplo:\n",
    "\n",
    "# >>> paseo_aleatorio(100)\n",
    "# array([ 1,  0, -1, -2, -3, -4, -5, -4, -3, -2, -1, -2, -1,  0, -1, -2, -1,\n",
    "#        -2, -3, -4, -5, -4, -5, -6, -5, -4, -3, -2, -1,  0, -1,  0,  1,  2,\n",
    "#         3,  2,  1,  2,  3,  4,  3,  2,  3,  4,  3,  2,  3,  2,  1,  2,  1,\n",
    "#         2,  1,  0,  1,  2,  3,  4,  5,  4,  3,  2,  1,  0,  1,  0, -1,  0,\n",
    "#        -1,  0,  1,  2,  1,  0, -1, -2, -1, -2, -3, -2, -1,  0, -1, -2, -1,\n",
    "#        -2, -1,  0, -1, -2, -3, -2, -1,  0,  1,  2,  3,  4,  3,  2])\n",
    "\n",
    "\n"
   ]
  },
  {
   "cell_type": "markdown",
   "metadata": {},
   "source": [
    "**13.2** Calcular la posición inferior y superior por la que pasa un paseo, y el momento en el que se alcanzan."
   ]
  },
  {
   "cell_type": "code",
   "execution_count": null,
   "metadata": {},
   "outputs": [],
   "source": []
  },
  {
   "cell_type": "markdown",
   "metadata": {},
   "source": [
    "**13.3** Generar un paseo de 1000 pasos, y calcular:\n",
    "\n",
    "* cuántas veces se está a más de 10 pasos de distancia del origen. \n",
    "* cuál es el primer paso en el que se separa a distancia 10 del origen."
   ]
  },
  {
   "cell_type": "code",
   "execution_count": null,
   "metadata": {},
   "outputs": [],
   "source": []
  }
 ],
 "metadata": {
  "kernelspec": {
   "display_name": "Python 3",
   "language": "python",
   "name": "python3"
  },
  "language_info": {
   "codemirror_mode": {
    "name": "ipython",
    "version": 3
   },
   "file_extension": ".py",
   "mimetype": "text/x-python",
   "name": "python",
   "nbconvert_exporter": "python",
   "pygments_lexer": "ipython3",
   "version": "3.7.6"
  }
 },
 "nbformat": 4,
 "nbformat_minor": 1
}
